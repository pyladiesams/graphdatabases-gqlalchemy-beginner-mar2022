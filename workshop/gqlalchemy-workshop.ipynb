{
 "cells": [
  {
   "cell_type": "markdown",
   "id": "fad76b97",
   "metadata": {},
   "source": [
    "<h1 align=\"center\">An Introduction to Graph Databases with GQLAlchemy and Python</h1>"
   ]
  },
  {
   "cell_type": "markdown",
   "id": "4595587e",
   "metadata": {},
   "source": [
    "# Table of contents <a name=\"toc\"></a>\n",
    "1. [Introduction](#introduction)\n",
    "2. [Prerequisites](#prerequisites)\n",
    "    1. [Memgraph installation using Docker](#memgraph-docker)\n",
    "3. [Dataset and graph model](#dataset)\n",
    "4. [Connect to Memgraph with GQLAlchemy](#connect)\n",
    "5. [Define a graph schema](#graph-schema)\n",
    "6. [Creating and returning nodes and relationships](#create-return)\n",
    "7. [Importing data from CSV files](#import)\n",
    "8. [Querying the database and retrieving results](#query)\n",
    "9. [Example queries](#exercises)\n",
    "10. [Want to know more?](#extra)\n",
    "    1. [Movie recommender](#movie)\n",
    "    2. [Graph analytics](#graph-analytics)"
   ]
  },
  {
   "cell_type": "markdown",
   "id": "d4ee4433",
   "metadata": {},
   "source": [
    "## 1. Introduction <a name=\"introduction\"></a>\n",
    "\n",
    "Through this tutorial, we will learn how to create a graph model from a dataset, run Memgraph with Docker, connect to it from a Jupyter Notebook with the help of GQLAlchemy, and perform simple queries. We will explore the **movies dataset** consisting of two CSV files: `movies.csv` containing movie title and genre and `ratings.csv` that holds information about users' ratings.\n"
   ]
  },
  {
   "cell_type": "markdown",
   "id": "172070f5",
   "metadata": {},
   "source": [
    "## 2. Prerequisites <a name=\"prerequisites\"></a>\n",
    "\n",
    "For this tutorial, we need to install:\n",
    "\n",
    "- [Jupyter](https://jupyter.org/install) - to run the Jupyter notebook\n",
    "- [Docker](https://docs.docker.com/get-docker/) - to run Memgraph, since Memgraph is a native Linux application and cannot be installed on Windows and macOS\n",
    "- [GQLAlchemy](https://pypi.org/project/gqlalchemy/) - to connect to Memgraph and perform queries\n",
    "- [Pandas](https://pypi.org/project/pandas/) - to show how the CSV files look like\n",
    "\n",
    "### A. Memgraph installation using Docker <a name=\"memgraph-docker\"></a>\n",
    "\n",
    "After we install Docker, we can set up **Memgraph** by running:\n",
    "\n",
    "```\n",
    "docker run -it -p 7687:7687 -p 3000:3000 memgraph/memgraph-platform:2.2.5\n",
    "```\n",
    "\n",
    "This command will start the download and after it finishes, run the Memgraph container.\n",
    "\n",
    "**Memgraph Platform** contains:\n",
    "\n",
    "- **Memgraph DB** - the database that holds your data\n",
    "- **Memgraph Lab** - visual user interface for running queries and visualizing graph data (running at `localhost:3000`)\n",
    "- **mgconsole** - command-line interface for running queries\n",
    "- **MAGE** - graph algorithms and modules library"
   ]
  },
  {
   "cell_type": "markdown",
   "id": "70d165b5",
   "metadata": {},
   "source": [
    "## 3. Dataset and graph model <a name=\"dataset\"></a>\n",
    "\n",
    "We will use the Pandas library to show how `movies.csv` and `ratings.csv` files look like."
   ]
  },
  {
   "cell_type": "code",
   "execution_count": 1,
   "id": "20c7a796",
   "metadata": {
    "scrolled": true
   },
   "outputs": [
    {
     "data": {
      "text/html": [
       "<div>\n",
       "<style scoped>\n",
       "    .dataframe tbody tr th:only-of-type {\n",
       "        vertical-align: middle;\n",
       "    }\n",
       "\n",
       "    .dataframe tbody tr th {\n",
       "        vertical-align: top;\n",
       "    }\n",
       "\n",
       "    .dataframe thead th {\n",
       "        text-align: right;\n",
       "    }\n",
       "</style>\n",
       "<table border=\"1\" class=\"dataframe\">\n",
       "  <thead>\n",
       "    <tr style=\"text-align: right;\">\n",
       "      <th></th>\n",
       "      <th>movieId</th>\n",
       "      <th>title</th>\n",
       "      <th>genres</th>\n",
       "    </tr>\n",
       "  </thead>\n",
       "  <tbody>\n",
       "    <tr>\n",
       "      <th>0</th>\n",
       "      <td>1</td>\n",
       "      <td>Toy Story (1995)</td>\n",
       "      <td>Adventure|Animation|Children|Comedy|Fantasy</td>\n",
       "    </tr>\n",
       "    <tr>\n",
       "      <th>1</th>\n",
       "      <td>2</td>\n",
       "      <td>Jumanji (1995)</td>\n",
       "      <td>Adventure|Children|Fantasy</td>\n",
       "    </tr>\n",
       "    <tr>\n",
       "      <th>2</th>\n",
       "      <td>3</td>\n",
       "      <td>Grumpier Old Men (1995)</td>\n",
       "      <td>Comedy|Romance</td>\n",
       "    </tr>\n",
       "    <tr>\n",
       "      <th>3</th>\n",
       "      <td>4</td>\n",
       "      <td>Waiting to Exhale (1995)</td>\n",
       "      <td>Comedy|Drama|Romance</td>\n",
       "    </tr>\n",
       "    <tr>\n",
       "      <th>4</th>\n",
       "      <td>5</td>\n",
       "      <td>Father of the Bride Part II (1995)</td>\n",
       "      <td>Comedy</td>\n",
       "    </tr>\n",
       "  </tbody>\n",
       "</table>\n",
       "</div>"
      ],
      "text/plain": [
       "   movieId                               title  \\\n",
       "0        1                    Toy Story (1995)   \n",
       "1        2                      Jumanji (1995)   \n",
       "2        3             Grumpier Old Men (1995)   \n",
       "3        4            Waiting to Exhale (1995)   \n",
       "4        5  Father of the Bride Part II (1995)   \n",
       "\n",
       "                                        genres  \n",
       "0  Adventure|Animation|Children|Comedy|Fantasy  \n",
       "1                   Adventure|Children|Fantasy  \n",
       "2                               Comedy|Romance  \n",
       "3                         Comedy|Drama|Romance  \n",
       "4                                       Comedy  "
      ]
     },
     "execution_count": 1,
     "metadata": {},
     "output_type": "execute_result"
    }
   ],
   "source": [
    "import pandas as pd\n",
    "\n",
    "movies = pd.read_csv(\"../data/movies.csv\")\n",
    "movies.head()"
   ]
  },
  {
   "cell_type": "code",
   "execution_count": 2,
   "id": "d2a68081",
   "metadata": {
    "scrolled": true
   },
   "outputs": [
    {
     "data": {
      "text/html": [
       "<div>\n",
       "<style scoped>\n",
       "    .dataframe tbody tr th:only-of-type {\n",
       "        vertical-align: middle;\n",
       "    }\n",
       "\n",
       "    .dataframe tbody tr th {\n",
       "        vertical-align: top;\n",
       "    }\n",
       "\n",
       "    .dataframe thead th {\n",
       "        text-align: right;\n",
       "    }\n",
       "</style>\n",
       "<table border=\"1\" class=\"dataframe\">\n",
       "  <thead>\n",
       "    <tr style=\"text-align: right;\">\n",
       "      <th></th>\n",
       "      <th>userId</th>\n",
       "      <th>movieId</th>\n",
       "      <th>rating</th>\n",
       "      <th>timestamp</th>\n",
       "    </tr>\n",
       "  </thead>\n",
       "  <tbody>\n",
       "    <tr>\n",
       "      <th>0</th>\n",
       "      <td>1</td>\n",
       "      <td>1</td>\n",
       "      <td>4.0</td>\n",
       "      <td>964982703</td>\n",
       "    </tr>\n",
       "    <tr>\n",
       "      <th>1</th>\n",
       "      <td>1</td>\n",
       "      <td>3</td>\n",
       "      <td>4.0</td>\n",
       "      <td>964981247</td>\n",
       "    </tr>\n",
       "    <tr>\n",
       "      <th>2</th>\n",
       "      <td>1</td>\n",
       "      <td>6</td>\n",
       "      <td>4.0</td>\n",
       "      <td>964982224</td>\n",
       "    </tr>\n",
       "    <tr>\n",
       "      <th>3</th>\n",
       "      <td>1</td>\n",
       "      <td>47</td>\n",
       "      <td>5.0</td>\n",
       "      <td>964983815</td>\n",
       "    </tr>\n",
       "    <tr>\n",
       "      <th>4</th>\n",
       "      <td>1</td>\n",
       "      <td>50</td>\n",
       "      <td>5.0</td>\n",
       "      <td>964982931</td>\n",
       "    </tr>\n",
       "  </tbody>\n",
       "</table>\n",
       "</div>"
      ],
      "text/plain": [
       "   userId  movieId  rating  timestamp\n",
       "0       1        1     4.0  964982703\n",
       "1       1        3     4.0  964981247\n",
       "2       1        6     4.0  964982224\n",
       "3       1       47     5.0  964983815\n",
       "4       1       50     5.0  964982931"
      ]
     },
     "execution_count": 2,
     "metadata": {},
     "output_type": "execute_result"
    }
   ],
   "source": [
    "ratings = pd.read_csv(\"../data/ratings.csv\")\n",
    "ratings.head()"
   ]
  },
  {
   "cell_type": "markdown",
   "id": "ad86b184",
   "metadata": {},
   "source": [
    "*** \n",
    "\n",
    "Next, we must create a **graph model** for the movies dataset. Every movie has a title and genre it belongs to. Therefore, let's create `:Movie` and `:Genre` nodes and the relationship between them of `OF_GENRE` type. The `:Movie` nodes will have `id` and `title` properties, while `:Genre` nodes will have just `name` property. In `ratings.csv`, we have users who rated movies at a certain moment. Hence, we should create `:User` nodes and a new relationship type called `RATED` between `:User` and `:Movie` nodes. This relationship will have properties `rating` and `timestamp`. `:User` node only has `id` property. In the image below, we have the graph model (schema).\n",
    "\n",
    "![movies_graph_model](../img/movie-schema.png)"
   ]
  },
  {
   "cell_type": "markdown",
   "id": "75700197",
   "metadata": {},
   "source": [
    "## 4. Connect to Memgraph with GQLAlchemy <a name=\"connect\"></a>\n",
    "\n",
    "We will use the **GQLAlchemy**'s object graph mapper (OGM) to connect to Memgraph and quickly execute **Cypher** queries. GQLAlchemy also serves as a Python driver/client for Memgraph. We can install it using:\n",
    "\n",
    "```\n",
    "pip install gqlalchemy\n",
    "```\n",
    "\n",
    "> You may need to install [CMake](https://cmake.org/download/) before installing GQLAlchemy."
   ]
  },
  {
   "cell_type": "code",
   "execution_count": 3,
   "id": "e91e3efe",
   "metadata": {},
   "outputs": [],
   "source": [
    "from gqlalchemy import Memgraph"
   ]
  },
  {
   "cell_type": "code",
   "execution_count": 4,
   "id": "93a1c2a2",
   "metadata": {},
   "outputs": [],
   "source": [
    "memgraph = Memgraph(\"127.0.0.1\", 7687)"
   ]
  },
  {
   "cell_type": "markdown",
   "id": "425d5675",
   "metadata": {},
   "source": [
    "Let's make sure that Memgraph is empty before we start with anything else."
   ]
  },
  {
   "cell_type": "code",
   "execution_count": 5,
   "id": "9f68fcb0",
   "metadata": {},
   "outputs": [],
   "source": [
    "memgraph.drop_database()"
   ]
  },
  {
   "cell_type": "code",
   "execution_count": 6,
   "id": "1ffcea1a",
   "metadata": {},
   "outputs": [
    {
     "name": "stdout",
     "output_type": "stream",
     "text": [
      "{'number_of_nodes': 0}\n"
     ]
    }
   ],
   "source": [
    "results = memgraph.execute_and_fetch(\n",
    "    \"\"\"\n",
    "    MATCH (n) RETURN count(n) AS number_of_nodes ;\n",
    "    \"\"\"\n",
    ")\n",
    "print(next(results))"
   ]
  },
  {
   "cell_type": "markdown",
   "id": "8d3acc5c",
   "metadata": {},
   "source": [
    "## 5. Define a graph schema <a name=\"graph-schema\"></a>\n",
    "\n",
    "Next, we have to define the above graph schema in the Python code. This is where **GQLAlchemy** steps in with its Object Graph Mapper."
   ]
  },
  {
   "cell_type": "code",
   "execution_count": 7,
   "id": "53c11afe",
   "metadata": {
    "scrolled": false
   },
   "outputs": [],
   "source": [
    "from typing import Optional\n",
    "from gqlalchemy import Node, Relationship, Field\n",
    "\n",
    "class Movie(Node):\n",
    "    id: int = Field(index=True, unique=True, exists=True, db=memgraph)\n",
    "    title: Optional[str] = Field()\n",
    "        \n",
    "\n",
    "class User(Node):\n",
    "    id: int = Field(index=True, unique=True, exists=True, db=memgraph)\n",
    "    name: Optional[str] = Field()\n",
    "        \n",
    "class Genre(Node):\n",
    "    name: str = Field()\n",
    "\n",
    "class Rated(Relationship, type=\"RATED\"):\n",
    "    rating: float = Field()\n",
    "    timestamp: float = Field()\n",
    "\n",
    "class OfGenre(Relationship, type=\"OF_GENRE\"):\n",
    "    pass"
   ]
  },
  {
   "cell_type": "markdown",
   "id": "cb498efe",
   "metadata": {},
   "source": [
    "What’s going on here:\n",
    "\n",
    "- `Node` is a Python class that maps to a graph object in `Memgraph`.\n",
    "- Classes that inherit from `Node` map to a single label in the graph database.\n",
    "- In this case, the class `Movie` maps to the label `:Movie`.\n",
    "- The properties `id` and `title` are mapped to properties of the nodes labeled `Movie` in the graph database. Their types must be defined and are enforced.\n",
    "- If the property type is missing the `Optional` keyword, then it can’t be `None` or missing.\n",
    "- `Field` is a function from pydantic that you can use to define constraints in the graph database like uniqueness constraints, indexes and existence constraints.\n",
    "- Whenever you provide a constraint to the `Field` function, you have to provide a `Memgraph` object in the `db` argument, so those constraints can be enforced.\n",
    "- In this instance, uniqueness and exists constraints, as well as index are added to `Memgraph` on the label `Movie` and the property `id`."
   ]
  },
  {
   "cell_type": "markdown",
   "id": "e958d8ed",
   "metadata": {},
   "source": [
    "## 6. Creating and returning nodes and relationships <a name=\"create-return\"></a>\n",
    "\n",
    "Before we import the whole dataset from the CSV files, let's see how we can create a simple node and relationship. First, we will create one `User` node and one `Movie` node."
   ]
  },
  {
   "cell_type": "code",
   "execution_count": 8,
   "id": "0dfccf29",
   "metadata": {
    "scrolled": true
   },
   "outputs": [
    {
     "name": "stdout",
     "output_type": "stream",
     "text": [
      "<User id=0 labels={'User'} properties={'id': 1, 'name': 'Katarina'}>\n",
      "<Movie id=1 labels={'Movie'} properties={'id': 1, 'title': 'LOTR'}>\n"
     ]
    }
   ],
   "source": [
    "user_node = User(id=1, name=\"Katarina\")\n",
    "movie_node = Movie(id=1, title=\"LOTR\")\n",
    "\n",
    "user_node.save(memgraph)\n",
    "movie_node.save(memgraph)\n",
    "\n",
    "print(user_node)\n",
    "print(movie_node)"
   ]
  },
  {
   "cell_type": "markdown",
   "id": "e540697d",
   "metadata": {},
   "source": [
    "Now, let's try to create a node using the Cypher query language. We will create a user with an existing `id` just to check if the uniqueness constraint on the property `id` is set correctly."
   ]
  },
  {
   "cell_type": "code",
   "execution_count": 9,
   "id": "72d4e770",
   "metadata": {},
   "outputs": [
    {
     "name": "stdout",
     "output_type": "stream",
     "text": [
      "Error: A user with the name Katarina is already in the database.\n"
     ]
    }
   ],
   "source": [
    "try:\n",
    "    results = memgraph.execute(\n",
    "        \"\"\"\n",
    "        CREATE (:User {name: \"Katarina\"});\n",
    "        \"\"\"\n",
    "    )\n",
    "except Exception:\n",
    "    print(\"Error: A user with the name Katarina is already in the database.\")"
   ]
  },
  {
   "cell_type": "markdown",
   "id": "94702cfc",
   "metadata": {},
   "source": [
    "Next, let's create a relationship of type `RATED` between the existing `User` and `Movie` nodes."
   ]
  },
  {
   "cell_type": "code",
   "execution_count": 10,
   "id": "43e50fd0",
   "metadata": {},
   "outputs": [
    {
     "name": "stdout",
     "output_type": "stream",
     "text": [
      "<Rated id=0 start_node_id=0 end_node_id=1 nodes=(0, 1) type=RATED properties={'rating': 5.0, 'timestamp': 1648401418.0004978}>\n"
     ]
    }
   ],
   "source": [
    "from time import time\n",
    "\n",
    "rated_relationship = Rated(_start_node_id=user_node._id, _end_node_id=movie_node._id, rating=5.0, timestamp=time())\n",
    "\n",
    "rated_relationship.save(memgraph)\n",
    "\n",
    "print(rated_relationship)"
   ]
  },
  {
   "cell_type": "markdown",
   "id": "f2277c50",
   "metadata": {},
   "source": [
    "## 7. Importing data from CSV files <a name=\"import\"></a>\n",
    "\n",
    "First, let's clean up the database to import only data from the CSV files.\n"
   ]
  },
  {
   "cell_type": "code",
   "execution_count": 11,
   "id": "dae2543a",
   "metadata": {},
   "outputs": [],
   "source": [
    "memgraph.drop_database()"
   ]
  },
  {
   "cell_type": "markdown",
   "id": "5b465fca",
   "metadata": {},
   "source": [
    "First, we need to download the `movies.csv` and `ratings.csv` files. To import it into Memgraph, we need to copy it to the Docker container where Memgraph is running.\n",
    "Find the `CONTAINER_ID` by running:\n",
    "\n",
    "```\n",
    "docker ps\n",
    "```\n",
    "\n",
    "Copy the files with the following commands (don't forget to replace `CONTAINER_ID`):\n",
    "\n",
    "```\n",
    "docker cp movies.csv CONTAINER_ID:movies.csv\n",
    "```\n",
    "\n",
    "```\n",
    "docker cp ratings.csv CONTAINER_ID:ratings.csv\n",
    "```"
   ]
  },
  {
   "cell_type": "markdown",
   "id": "be194ec4",
   "metadata": {},
   "source": [
    "We will import data to Memgraph using the `LOAD CSV` Cypher clause that enables us to load and use data from a CSV file of our choosing in a row-based manner within a query. Memgraph supports the Excel CSV dialect, the most common one. For more info, check out [Memgraph Docs](https://memgraph.com/docs/memgraph/import-data/load-csv-clause).\n",
    "\n",
    "The following method will run the `LOAD CSV` clause inside Memgraph and create `Movie` and `Genre` nodes and the `OF_GENRE` relationship between them."
   ]
  },
  {
   "cell_type": "code",
   "execution_count": 12,
   "id": "c40e8239",
   "metadata": {},
   "outputs": [
    {
     "ename": "DatabaseError",
     "evalue": "CSV file not found: /movies.csv",
     "output_type": "error",
     "traceback": [
      "\u001b[0;31m---------------------------------------------------------------------------\u001b[0m",
      "\u001b[0;31mDatabaseError\u001b[0m                             Traceback (most recent call last)",
      "Input \u001b[0;32mIn [12]\u001b[0m, in \u001b[0;36m<cell line: 1>\u001b[0;34m()\u001b[0m\n\u001b[0;32m----> 1\u001b[0m \u001b[43mmemgraph\u001b[49m\u001b[38;5;241;43m.\u001b[39;49m\u001b[43mexecute\u001b[49m\u001b[43m(\u001b[49m\n\u001b[1;32m      2\u001b[0m \u001b[43m    \u001b[49m\u001b[38;5;124;43;03m\"\"\"\u001b[39;49;00m\n\u001b[1;32m      3\u001b[0m \u001b[38;5;124;43;03m    LOAD CSV FROM \"/movies.csv\" WITH HEADER AS row\u001b[39;49;00m\n\u001b[1;32m      4\u001b[0m \u001b[38;5;124;43;03m    MERGE (m:Movie {id: toInteger(row.movieId), title: row.title}) \u001b[39;49;00m\n\u001b[1;32m      5\u001b[0m \u001b[38;5;124;43;03m    WITH m, row\u001b[39;49;00m\n\u001b[1;32m      6\u001b[0m \u001b[38;5;124;43;03m    UNWIND split(row.genres, '|') as genre\u001b[39;49;00m\n\u001b[1;32m      7\u001b[0m \u001b[38;5;124;43;03m    MERGE (m)-[:OF_GENRE]->(:Genre {name: genre});\u001b[39;49;00m\n\u001b[1;32m      8\u001b[0m \u001b[38;5;124;43;03m    \"\"\"\u001b[39;49;00m\n\u001b[1;32m      9\u001b[0m \u001b[43m)\u001b[49m\n",
      "File \u001b[0;32m~/Library/Python/3.9/lib/python/site-packages/gqlalchemy/memgraph.py:84\u001b[0m, in \u001b[0;36mMemgraph.execute\u001b[0;34m(self, query, connection)\u001b[0m\n\u001b[1;32m     82\u001b[0m \u001b[38;5;124;03m\"\"\"Executes Cypher query without returning any results.\"\"\"\u001b[39;00m\n\u001b[1;32m     83\u001b[0m connection \u001b[38;5;241m=\u001b[39m connection \u001b[38;5;129;01mor\u001b[39;00m \u001b[38;5;28mself\u001b[39m\u001b[38;5;241m.\u001b[39m_get_cached_connection()\n\u001b[0;32m---> 84\u001b[0m \u001b[43mconnection\u001b[49m\u001b[38;5;241;43m.\u001b[39;49m\u001b[43mexecute\u001b[49m\u001b[43m(\u001b[49m\u001b[43mquery\u001b[49m\u001b[43m)\u001b[49m\n",
      "File \u001b[0;32m~/Library/Python/3.9/lib/python/site-packages/gqlalchemy/connection.py:82\u001b[0m, in \u001b[0;36mMemgraphConnection.execute\u001b[0;34m(self, query)\u001b[0m\n\u001b[1;32m     80\u001b[0m cursor \u001b[38;5;241m=\u001b[39m \u001b[38;5;28mself\u001b[39m\u001b[38;5;241m.\u001b[39m_connection\u001b[38;5;241m.\u001b[39mcursor()\n\u001b[1;32m     81\u001b[0m cursor\u001b[38;5;241m.\u001b[39mexecute(query)\n\u001b[0;32m---> 82\u001b[0m \u001b[43mcursor\u001b[49m\u001b[38;5;241;43m.\u001b[39;49m\u001b[43mfetchall\u001b[49m\u001b[43m(\u001b[49m\u001b[43m)\u001b[49m\n",
      "\u001b[0;31mDatabaseError\u001b[0m: CSV file not found: /movies.csv"
     ]
    }
   ],
   "source": [
    "memgraph.execute(\n",
    "    \"\"\"\n",
    "    LOAD CSV FROM \"/movies.csv\" WITH HEADER AS row\n",
    "    MERGE (m:Movie {id: toInteger(row.movieId), title: row.title}) \n",
    "    WITH m, row\n",
    "    UNWIND split(row.genres, '|') as genre\n",
    "    MERGE (m)-[:OF_GENRE]->(:Genre {name: genre});\n",
    "    \"\"\"\n",
    ")"
   ]
  },
  {
   "cell_type": "markdown",
   "id": "320093d6",
   "metadata": {},
   "source": [
    "All that is left to create is `User` node and connect it to the `Movie` node that the user rated. We will again use the `LOAD CSV` clause to import data from the `ratings.csv` file."
   ]
  },
  {
   "cell_type": "code",
   "execution_count": null,
   "id": "f9434a5e",
   "metadata": {},
   "outputs": [],
   "source": [
    "memgraph.execute(\n",
    "    \"\"\"\n",
    "    LOAD CSV FROM \"/ratings.csv\" WITH HEADER AS row\n",
    "    MATCH (m:Movie {id: toInteger(row.movieId)})\n",
    "    MERGE (u:User {id: toInteger(row.userId)})\n",
    "    MERGE (u)-[:RATED {rating: toFloat(row.rating), timestamp: toFloat(row.timestamp)}]->(m);\n",
    "    \"\"\"\n",
    ")"
   ]
  },
  {
   "cell_type": "markdown",
   "id": "7b7b577d",
   "metadata": {},
   "source": [
    "Great! We imported all the data into Memgraph. Feel free to check it out in Memgraph Lab at `localhost:3000`."
   ]
  },
  {
   "cell_type": "markdown",
   "id": "3c182648",
   "metadata": {},
   "source": [
    "## 8. Querying the database and retrieving results <a name=\"query\"></a>"
   ]
  },
  {
   "cell_type": "markdown",
   "id": "a4ee5d55",
   "metadata": {},
   "source": [
    "The simplest usage of the **Cypher query language** is to find data stored in the database. For that, you can use one of the following clauses:\n",
    "\n",
    "- `MATCH` which searches for patterns.\n",
    "- `WHERE` for filtering the matched data.\n",
    "- `RETURN` for defining what will be presented to the user in the result set.\n",
    "- `UNION` and `UNION ALL` for combining results from multiple queries.\n",
    "- `UNWIND` for unwinding a list of values as individual rows.\n",
    "\n",
    "Let's create a simple `MATCH` query to find all movies and order them by their title in ascending order."
   ]
  },
  {
   "cell_type": "code",
   "execution_count": null,
   "id": "837c4220",
   "metadata": {},
   "outputs": [],
   "source": [
    "results = memgraph.execute_and_fetch(\n",
    "    \"\"\"\n",
    "    MATCH (m:Movie)\n",
    "    RETURN m\n",
    "    ORDER BY m.title ASC\n",
    "    LIMIT 10;\n",
    "    \"\"\"\n",
    ")"
   ]
  },
  {
   "cell_type": "code",
   "execution_count": null,
   "id": "87dfd43d",
   "metadata": {
    "scrolled": false
   },
   "outputs": [],
   "source": [
    "results = list(results)\n",
    "\n",
    "for result in results:\n",
    "    print(result[\"m\"])"
   ]
  },
  {
   "cell_type": "markdown",
   "id": "f2e57132",
   "metadata": {},
   "source": [
    "We may wonder whether these results have been correctly serialized back to the defined schema. We can check that out:"
   ]
  },
  {
   "cell_type": "code",
   "execution_count": null,
   "id": "8c77df3b",
   "metadata": {
    "scrolled": true
   },
   "outputs": [],
   "source": [
    "m = results[8][\"m\"]\n",
    "\n",
    "print(\"Movie: \", m.title)\n",
    "print(\"Type: \", type(m))"
   ]
  },
  {
   "cell_type": "markdown",
   "id": "030cf990",
   "metadata": {},
   "source": [
    "As expected, the movie in the result is an instance of `Movie` class and it has properties `id` and `title` that can be read.\n",
    "\n",
    "If you're not keen on Cypher query language, you can try out the GQLAlchemy **query builder**. Let's rewrite the above Cypher query with the help of the query builder:"
   ]
  },
  {
   "cell_type": "code",
   "execution_count": null,
   "id": "f8721836",
   "metadata": {
    "scrolled": true
   },
   "outputs": [],
   "source": [
    "from gqlalchemy import match\n",
    "\n",
    "results_from_qb = (\n",
    "    match()\n",
    "    .node(labels=\"Movie\", variable=\"m\")\n",
    "    .return_()\n",
    "    .order_by(\"m.title ASC\")\n",
    "    .limit(10)\n",
    "    .execute()\n",
    ")\n",
    "results_from_qb = list(results_from_qb)\n",
    "\n",
    "for result in results_from_qb:\n",
    "    print(result[\"m\"])\n"
   ]
  },
  {
   "cell_type": "markdown",
   "id": "2710753a",
   "metadata": {},
   "source": [
    "As expected, the result is the same as above.\n",
    "\n",
    "## 9. Example queries  <a name=\"exercises\"></a>\n",
    "\n",
    "\n",
    "### 🔷 Example 1: Find out how many users there are in the database.\n",
    "\n",
    "The correct Cypher query would be:\n",
    "\n",
    "```\n",
    "MATCH (n:User)\n",
    "RETURN count(n) AS num_of_users;\n",
    "```\n",
    "\n",
    "You can try it out in Memgraph Lab at `localhost:3000`.\n",
    "\n",
    "With GQLAlchemy's query builder, the solution is:"
   ]
  },
  {
   "cell_type": "code",
   "execution_count": null,
   "id": "9fb0b702",
   "metadata": {},
   "outputs": [],
   "source": [
    "total_users = (\n",
    "    match()\n",
    "    .node(labels=\"User\", variable=\"u\")\n",
    "    .return_({\"count(u)\": \"num_of_users\"})\n",
    "    .execute()\n",
    ")\n",
    "\n",
    "results = list(total_users)\n",
    "for result in results:\n",
    "    print(result[\"num_of_users\"])"
   ]
  },
  {
   "cell_type": "markdown",
   "id": "c3bf004a",
   "metadata": {},
   "source": [
    "#### ❓Exercise 1: Find out how many genres there are in the database.\n",
    "\n",
    "***\n",
    "\n",
    "### 🔷 Example 2: Find out how many users rated the movie with the title 'Home Alone (1990)'.\n",
    "\n",
    "The correct Cypher query would be:\n",
    "\n",
    "```\n",
    "MATCH (u:User)-[:RATED]->(:Movie {title: 'Home Alone (1990)'})\n",
    "RETURN count(u) AS num_of_users;\n",
    "```\n",
    "\n",
    "You can try it out in Memgraph Lab at `localhost:3000`.\n",
    "\n",
    "With GQLAlchemy's query builder, the solution is:"
   ]
  },
  {
   "cell_type": "code",
   "execution_count": null,
   "id": "9ee1b6ce",
   "metadata": {
    "scrolled": true
   },
   "outputs": [],
   "source": [
    "home_alone = (\n",
    "    match()\n",
    "    .node(labels=\"User\", variable=\"u\")\n",
    "    .to(\"RATED\")\n",
    "    .node(labels=\"Movie\", variable=\"m\")\n",
    "    .where(\"m.title\", \"=\", \"Home Alone (1990)\")\n",
    "    .return_({\"count(u)\": \"num_of_users\"})\n",
    "    .execute()\n",
    ")\n",
    "\n",
    "results = list(home_alone)\n",
    "\n",
    "for result in results:\n",
    "    print(result[\"num_of_users\"])"
   ]
  },
  {
   "cell_type": "markdown",
   "id": "8be36006",
   "metadata": {},
   "source": [
    "#### ❓Exercise 2: Find out to how many genres movie 'Matrix, The (1999)' belongs to.\n",
    "\n",
    "***\n",
    "\n",
    "### 🔷 Example 3: Find out the name of the genres the movie 'Blue Lagoon, The (1980)' belongs to.\n",
    "\n",
    "The correct Cypher query would be:\n",
    "\n",
    "```\n",
    "MATCH (:Movie {title: 'Blue Lagoon, The (1980)'})-[:OF_GENRE]->(g:Genre)\n",
    "RETURN g.name AS genre;\n",
    "```\n",
    "\n",
    "You can try it out in Memgraph Lab at `localhost:3000`.\n",
    "\n",
    "With GQLAlchemy's query builder, the solution is:"
   ]
  },
  {
   "cell_type": "code",
   "execution_count": null,
   "id": "2c7061f5",
   "metadata": {
    "scrolled": true
   },
   "outputs": [],
   "source": [
    "genres = (\n",
    "    match()\n",
    "    .node(labels=\"Movie\", variable=\"m\")\n",
    "    .to(\"OF_GENRE\")\n",
    "    .node(labels=\"Genre\", variable=\"g\")\n",
    "    .where(\"m.title\", \"=\", \"Blue Lagoon, The (1980)\")\n",
    "    .return_({\"g.name\": \"genre\"})\n",
    "    .execute()\n",
    ")\n",
    "\n",
    "results = list(genres)\n",
    "\n",
    "for result in results:\n",
    "    print(result[\"genre\"])"
   ]
  },
  {
   "cell_type": "markdown",
   "id": "b37ea2d1",
   "metadata": {},
   "source": [
    "#### ❓Exercise 3: Find out the title of the movies that the user with `id` 1 rated.\n",
    "\n",
    "***\n",
    "\n",
    "### 🔷 Example 4: List 10 movies of 'Comedy' and 'Action' genres and sort them by title.\n",
    "\n",
    "The correct Cypher query would be:\n",
    "\n",
    "```\n",
    "MATCH (m:Movie)-[:OF_GENRE]->(:Genre {name: \"Action\"})\n",
    "MATCH (m)-[:OF_GENRE]->(:Genre {name: \"Comedy\"})\n",
    "RETURN m.title\n",
    "ORDER BY m.title\n",
    "LIMIT 10;\n",
    "```\n",
    "\n",
    "You can try it out in Memgraph Lab at `localhost:3000`.\n",
    "\n",
    "With GQLAlchemy's query builder, the solution is:"
   ]
  },
  {
   "cell_type": "code",
   "execution_count": null,
   "id": "fad868e4",
   "metadata": {},
   "outputs": [],
   "source": [
    "movies = (\n",
    "    match()\n",
    "    .node(labels=\"Movie\", variable=\"m\")\n",
    "    .to(\"OF_GENRE\")\n",
    "    .node(labels=\"Genre\", variable=\"g1\")\n",
    "    .where(\"g1.name\", \"=\", \"Action\")\n",
    "    .match()\n",
    "    .node(labels=\"Movie\", variable=\"m\")\n",
    "    .to(\"OF_GENRE\")\n",
    "    .node(labels=\"Genre\", variable=\"g2\")\n",
    "    .where(\"g2.name\", \"=\", \"Comedy\")\n",
    "    .return_({\"m.title\": \"movie\"})\n",
    "    .order_by(\"m.title\")\n",
    "    .limit(10)\n",
    "    .execute()\n",
    ")\n",
    "\n",
    "results = list(movies)\n",
    "\n",
    "for result in results:\n",
    "    print(result[\"movie\"])"
   ]
  },
  {
   "cell_type": "markdown",
   "id": "00d70563",
   "metadata": {},
   "source": [
    "#### ❓Exercise 4: List 15 movies of 'Documentary' and 'Comedy' genres and sort them by title descending.\n",
    "\n",
    "***\n",
    "\n",
    "### 🔷 Example 5: Find out the average rating of the 'Star Wars: Episode IV - A New Hope (1977)' movie.\n",
    "\n",
    "Here we're going to use one of the **Cypher functions**. We are going to use aggregation `avg` function, that returns an average value of rows with numerical values generated with the `MATCH` or `UNWIND` clause. The list of the supported functions can be found in the [Cypher manual](https://memgraph.com/docs/cypher-manual/functions).\n",
    "\n",
    "The correct Cypher query would be:\n",
    "\n",
    "```\n",
    "MATCH (:User)-[r:RATED]->(:Movie {title: 'Star Wars: Episode IV - A New Hope (1977)'})\n",
    "RETURN avg(r.rating);\n",
    "```\n",
    "\n",
    "You can try it out in Memgraph Lab at `localhost:3000`.\n",
    "\n",
    "With GQLAlchemy's query builder, the solution is:"
   ]
  },
  {
   "cell_type": "code",
   "execution_count": null,
   "id": "9cb4ad36",
   "metadata": {},
   "outputs": [],
   "source": [
    "rating = (\n",
    "    match()\n",
    "    .node(labels=\"User\")\n",
    "    .to(\"RATED\", variable=\"r\")\n",
    "    .node(labels=\"Movie\", variable=\"m\")\n",
    "    .where(\"m.title\", \"=\", \"Star Wars: Episode IV - A New Hope (1977)\")\n",
    "    .return_({\"avg(r.rating)\": \"average_rating\"})\n",
    "    .execute()\n",
    ")\n",
    "\n",
    "results = list(rating)\n",
    "\n",
    "for result in results:\n",
    "    print(result[\"average_rating\"])"
   ]
  },
  {
   "cell_type": "markdown",
   "id": "f3657d8c",
   "metadata": {},
   "source": [
    "#### ❓Exercise 5: Find out the minimum rating of the 'Star Wars: Episode I - The Phantom Menace (1999)' movie."
   ]
  },
  {
   "cell_type": "markdown",
   "id": "9252fee0",
   "metadata": {},
   "source": [
    "## 10. Want to know more? <a name=\"extra\"></a>\n",
    "\n",
    "### A. Movie recommender <a name=\"movie\"></a>\n",
    "\n",
    "We will implement a simple memory based [collaborative filtering](https://en.wikipedia.org/wiki/Collaborative_filtering). The memory-based approach uses user rating data to compute the similarity between users or items."
   ]
  },
  {
   "cell_type": "code",
   "execution_count": null,
   "id": "a7d96440",
   "metadata": {},
   "outputs": [],
   "source": [
    "ratings = memgraph.execute_and_fetch(\n",
    "    \"\"\"\n",
    "    MATCH (u1:User {id:608})-[r1:RATED]->(m:Movie)<-[r2:RATED]-(u2:User)\n",
    "    WITH u2.id AS u2_id, avg(abs(r1.rating-r2.rating)) AS similarity, count(*) AS similar_user_count\n",
    "    WHERE similar_user_count > 2\n",
    "    WITH u2_id\n",
    "    ORDER BY similarity\n",
    "    LIMIT 10\n",
    "    WITH collect(u2_id) AS similar_user_set\n",
    "    MATCH (m2: Movie)<-[r3:RATED]-(u3:User)\n",
    "    WHERE u3.id IN similar_user_set\n",
    "    WITH m2, avg(r3.rating) AS prediction_rating\n",
    "    RETURN m2.title AS title, prediction_rating\n",
    "    ORDER BY prediction_rating DESC;\n",
    "    \"\"\"\n",
    ")\n",
    "\n",
    "results = list(ratings)\n",
    "\n",
    "for result in results:\n",
    "    print(result[\"title\"], result[\"prediction_rating\"])"
   ]
  },
  {
   "cell_type": "markdown",
   "id": "015c9c4b",
   "metadata": {},
   "source": [
    "**How does this query work?**\n",
    "\n",
    "This query has two parts:\n",
    "\n",
    "1. Finding similar users\n",
    "2. Predicting the score for some movie (recommendation)\n",
    "\n",
    "In the first part, we are looking for **similar users**. Two users are considered similar if they tend to give similar ratings to the same movies. For the target user (with `id` 608) and some other user we are searching for the same movies:\n",
    "\n",
    "```\n",
    "MATCH (u1:User {id:608})-[r1:RATED]->(m:Movie)<-[r2:RATED]-(u2:User)\n",
    "```\n",
    "\n",
    "But that is not enough to find similar users. We need to choose users with similar ratings:\n",
    "\n",
    "```\n",
    "WITH u2.id AS u2_id,\n",
    "     avg(abs(r1.rating-r2.rating)) AS similarity,\n",
    "     count(*) AS similar_user_count\n",
    "WHERE similar_user_count > 2\n",
    "WITH u2_id\n",
    "ORDER BY similarity\n",
    "LIMIT 10\n",
    "WITH collect(u2_id) AS similar_user_set\n",
    "```\n",
    "\n",
    "The similarity is being calculated as the average distance between target user rating and some other user rating on the same set of movies. The `similar_user_count` limit is used for filtering users who have at least 2 movies in common with the target user. The `similar_user_set` size is used to peek top 10 similar users (10 or less).\n",
    "\n",
    "We have a similar user set so we can calculate the prediction rating for all movies in the database:\n",
    "\n",
    "```\n",
    "MATCH (m2: Movie)<-[r3:RATED]-(u3:User)\n",
    "WHERE u3.id IN similar_user_set\n",
    "WITH m2, avg(r3.rating) AS prediction_rating\n",
    "RETURN m2.title AS title, prediction_rating\n",
    "ORDER BY prediction_rating DESC;\n",
    "```\n",
    "\n",
    "\n",
    "We encourage you to play with some parameters, like `similar_user_count` limit and `similar_user_set` size limit. You can also try to use different similarity functions, for example [Euclidean distance](https://en.wikipedia.org/wiki/Euclidean_distance). Then we would calculate the `similarity` like this:\n",
    "\n",
    "```\n",
    "sqrt(reduce(a=0, x IN collect((r1.rating - r2.rating) * (r1.rating - r2.rating)) | a + x)) AS similarity\n",
    "```\n",
    "\n",
    "### B. Graph analytics <a name=\"graph-analytics\"></a>\n",
    "\n",
    "We will perform the **PageRank** algorithm on our database and find out which movie is the most popular. Today, the most popular search engine in the world, Google, owes its popularity solely to this algorithm, developed in the early days by its founders. The PageRank algorithm outputs probability distribution used to represent the likelihood that a person randomly clicking on links will arrive at any particular page.\n",
    "\n",
    "We can calculate ranks using the Cypher query language:\n",
    "\n",
    "```\n",
    "CALL pagerank.get()\n",
    "YIELD *\n",
    "WITH node, rank\n",
    "WHERE node:Movie\n",
    "RETURN node.title AS movie_title, rank\n",
    "ORDER BY rank DESC\n",
    "LIMIT 50;\n",
    "```\n",
    "\n",
    "With GQLAlchemy's query builder, we have:"
   ]
  },
  {
   "cell_type": "code",
   "execution_count": null,
   "id": "74099c63",
   "metadata": {
    "scrolled": true
   },
   "outputs": [],
   "source": [
    "from gqlalchemy import call\n",
    "results = list(\n",
    "            call(\"pagerank.get\")\n",
    "            .yield_()\n",
    "            .with_({\"node\": \"node\", \"rank\": \"rank\"})\n",
    "            .add_custom_cypher(\"WHERE node:Movie\")\n",
    "            .return_({\"node.title\": \"movie_title\", \"rank\": \"rank\"})\n",
    "            .order_by(\"rank DESC\")\n",
    "            .limit(50)\n",
    "            .execute()\n",
    "        )\n",
    "\n",
    "for result in results:\n",
    "    print(result[\"movie_title\"], result[\"rank\"])"
   ]
  },
  {
   "cell_type": "markdown",
   "id": "f90e04b0",
   "metadata": {},
   "source": [
    "That's it! Hopefully, you gained new knowledge and enjoyed this workshop. If you have any questions, don't hesitate to contact me directly or [join our Discord server](https://discord.gg/memgraph).\n",
    "\n",
    "> The solutions to all exercises are located in the [gqlalchemy-solutions notebook](https://github.com/pyladiesams/graphdbs-gqlalchemy-beginner-mar2022/blob/master/solutions/gqlalchemy-solutions.ipynb). The best way to learn is to solve the exercises yourself and then check out the answers."
   ]
  },
  {
   "cell_type": "markdown",
   "id": "fd518040",
   "metadata": {},
   "source": [
    "<h3 align=\"center\"><a href=#toc>⬆️ GO TO TOP ⬆️</a></h3> "
   ]
  }
 ],
 "metadata": {
  "kernelspec": {
   "display_name": "Python 3 (ipykernel)",
   "language": "python",
   "name": "python3"
  },
  "language_info": {
   "codemirror_mode": {
    "name": "ipython",
    "version": 3
   },
   "file_extension": ".py",
   "mimetype": "text/x-python",
   "name": "python",
   "nbconvert_exporter": "python",
   "pygments_lexer": "ipython3",
   "version": "3.9.10"
  }
 },
 "nbformat": 4,
 "nbformat_minor": 5
}
