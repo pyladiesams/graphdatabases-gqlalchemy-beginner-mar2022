{
 "cells": [
  {
   "cell_type": "markdown",
   "id": "fad76b97",
   "metadata": {},
   "source": [
    "<h1 align=\"center\" style='color:#a00e67'>An Introduction to Graph Databases with GQLAlchemy and Python</h1>"
   ]
  },
  {
   "cell_type": "markdown",
   "id": "4595587e",
   "metadata": {},
   "source": [
    "# Table of contents <a name=\"toc\"></a>\n",
    "1. [Introduction](#introduction)\n",
    "2. [Prerequisites](#prerequisites)\n",
    "    1. [Memgraph installation using Docker](#memgraph-docker)\n",
    "3. [Dataset and graph model](#dataset)\n",
    "4. [Connect to Memgraph with GQLAlchemy](#connect)\n",
    "5. [Define a graph schema](#graph-schema)\n",
    "6. [Creating and returning nodes and relationships](#create-return)\n",
    "7. [Importing data from CSV files](#import)\n",
    "8. [Querying the database and retrieving results](#query)\n",
    "9. [Exercises](#exercises)"
   ]
  },
  {
   "cell_type": "markdown",
   "id": "d4ee4433",
   "metadata": {},
   "source": [
    "## 1. Introduction <a name=\"introduction\"></a>\n",
    "\n",
    "Through this tutorial, you will learn how to create a graph model from a dataset, how to run Memgraph with Docker, connect to it from a Jupyter Notebook and perform simple queries. We will explore the **movies dataset** that consists of two CSV files: `movies.csv` containing information about movie title and genre, and `ratings.csv` that holds information about users' ratings.\n"
   ]
  },
  {
   "cell_type": "markdown",
   "id": "172070f5",
   "metadata": {},
   "source": [
    "## 2. Prerequisites <a name=\"prerequisites\"></a>\n",
    "\n",
    "For this tutorial, you will need to install:\n",
    "\n",
    "- [Jupyter](https://jupyter.org/install)\n",
    "- [Docker](https://docs.docker.com/get-docker/)\n",
    "- [GQLAlchemy](https://pypi.org/project/gqlalchemy/)\n",
    "- [Pandas](https://pypi.org/project/pandas/)\n",
    "\n",
    "Docker is used because Memgraph is a native Linux application and cannot be installed on Windows and macOS.\n",
    "\n",
    "### A. Memgraph installation using Docker <a name=\"memgraph-docker\"></a>\n",
    "\n",
    "After you install Docker, you can set up **Memgraph** by running:\n",
    "\n",
    "```\n",
    "docker run -it -p 7687:7687 -p 3000:3000 memgraph/memgraph-platform\n",
    "```\n",
    "\n",
    "This command will start the download and after it finishes, run the Memgraph container.\n",
    "\n",
    "**Memgraph Platform** contains:\n",
    "\n",
    "- **Memgraph DB** - the database that holds your data\n",
    "- **Memgraph Lab** - visual user interface for running queries and visualizing graph data (running at `localhost:3000`)\n",
    "- **mgconsole** - command-line interface for running queries\n",
    "- **MAGE** - graph algorithms and modules library\n",
    "\n"
   ]
  },
  {
   "cell_type": "markdown",
   "id": "70d165b5",
   "metadata": {},
   "source": [
    "## 3. Dataset and graph model <a name=\"dataset\"></a>\n",
    "\n",
    "We will use pandas library to show how `movies.csv` and `ratings.csv` files look like."
   ]
  },
  {
   "cell_type": "code",
   "execution_count": 1,
   "id": "20c7a796",
   "metadata": {
    "scrolled": true
   },
   "outputs": [
    {
     "data": {
      "text/html": [
       "<div>\n",
       "<style scoped>\n",
       "    .dataframe tbody tr th:only-of-type {\n",
       "        vertical-align: middle;\n",
       "    }\n",
       "\n",
       "    .dataframe tbody tr th {\n",
       "        vertical-align: top;\n",
       "    }\n",
       "\n",
       "    .dataframe thead th {\n",
       "        text-align: right;\n",
       "    }\n",
       "</style>\n",
       "<table border=\"1\" class=\"dataframe\">\n",
       "  <thead>\n",
       "    <tr style=\"text-align: right;\">\n",
       "      <th></th>\n",
       "      <th>movieId</th>\n",
       "      <th>title</th>\n",
       "      <th>genres</th>\n",
       "    </tr>\n",
       "  </thead>\n",
       "  <tbody>\n",
       "    <tr>\n",
       "      <th>0</th>\n",
       "      <td>1</td>\n",
       "      <td>Toy Story (1995)</td>\n",
       "      <td>Adventure|Animation|Children|Comedy|Fantasy</td>\n",
       "    </tr>\n",
       "    <tr>\n",
       "      <th>1</th>\n",
       "      <td>2</td>\n",
       "      <td>Jumanji (1995)</td>\n",
       "      <td>Adventure|Children|Fantasy</td>\n",
       "    </tr>\n",
       "    <tr>\n",
       "      <th>2</th>\n",
       "      <td>3</td>\n",
       "      <td>Grumpier Old Men (1995)</td>\n",
       "      <td>Comedy|Romance</td>\n",
       "    </tr>\n",
       "    <tr>\n",
       "      <th>3</th>\n",
       "      <td>4</td>\n",
       "      <td>Waiting to Exhale (1995)</td>\n",
       "      <td>Comedy|Drama|Romance</td>\n",
       "    </tr>\n",
       "    <tr>\n",
       "      <th>4</th>\n",
       "      <td>5</td>\n",
       "      <td>Father of the Bride Part II (1995)</td>\n",
       "      <td>Comedy</td>\n",
       "    </tr>\n",
       "  </tbody>\n",
       "</table>\n",
       "</div>"
      ],
      "text/plain": [
       "   movieId                               title  \\\n",
       "0        1                    Toy Story (1995)   \n",
       "1        2                      Jumanji (1995)   \n",
       "2        3             Grumpier Old Men (1995)   \n",
       "3        4            Waiting to Exhale (1995)   \n",
       "4        5  Father of the Bride Part II (1995)   \n",
       "\n",
       "                                        genres  \n",
       "0  Adventure|Animation|Children|Comedy|Fantasy  \n",
       "1                   Adventure|Children|Fantasy  \n",
       "2                               Comedy|Romance  \n",
       "3                         Comedy|Drama|Romance  \n",
       "4                                       Comedy  "
      ]
     },
     "execution_count": 1,
     "metadata": {},
     "output_type": "execute_result"
    }
   ],
   "source": [
    "import pandas as pd\n",
    "\n",
    "movies = pd.read_csv(\"data/movies.csv\")\n",
    "movies.head()"
   ]
  },
  {
   "cell_type": "code",
   "execution_count": 2,
   "id": "d2a68081",
   "metadata": {
    "scrolled": true
   },
   "outputs": [
    {
     "data": {
      "text/html": [
       "<div>\n",
       "<style scoped>\n",
       "    .dataframe tbody tr th:only-of-type {\n",
       "        vertical-align: middle;\n",
       "    }\n",
       "\n",
       "    .dataframe tbody tr th {\n",
       "        vertical-align: top;\n",
       "    }\n",
       "\n",
       "    .dataframe thead th {\n",
       "        text-align: right;\n",
       "    }\n",
       "</style>\n",
       "<table border=\"1\" class=\"dataframe\">\n",
       "  <thead>\n",
       "    <tr style=\"text-align: right;\">\n",
       "      <th></th>\n",
       "      <th>userId</th>\n",
       "      <th>movieId</th>\n",
       "      <th>rating</th>\n",
       "      <th>timestamp</th>\n",
       "    </tr>\n",
       "  </thead>\n",
       "  <tbody>\n",
       "    <tr>\n",
       "      <th>0</th>\n",
       "      <td>1</td>\n",
       "      <td>1</td>\n",
       "      <td>4.0</td>\n",
       "      <td>964982703</td>\n",
       "    </tr>\n",
       "    <tr>\n",
       "      <th>1</th>\n",
       "      <td>1</td>\n",
       "      <td>3</td>\n",
       "      <td>4.0</td>\n",
       "      <td>964981247</td>\n",
       "    </tr>\n",
       "    <tr>\n",
       "      <th>2</th>\n",
       "      <td>1</td>\n",
       "      <td>6</td>\n",
       "      <td>4.0</td>\n",
       "      <td>964982224</td>\n",
       "    </tr>\n",
       "    <tr>\n",
       "      <th>3</th>\n",
       "      <td>1</td>\n",
       "      <td>47</td>\n",
       "      <td>5.0</td>\n",
       "      <td>964983815</td>\n",
       "    </tr>\n",
       "    <tr>\n",
       "      <th>4</th>\n",
       "      <td>1</td>\n",
       "      <td>50</td>\n",
       "      <td>5.0</td>\n",
       "      <td>964982931</td>\n",
       "    </tr>\n",
       "  </tbody>\n",
       "</table>\n",
       "</div>"
      ],
      "text/plain": [
       "   userId  movieId  rating  timestamp\n",
       "0       1        1     4.0  964982703\n",
       "1       1        3     4.0  964981247\n",
       "2       1        6     4.0  964982224\n",
       "3       1       47     5.0  964983815\n",
       "4       1       50     5.0  964982931"
      ]
     },
     "execution_count": 2,
     "metadata": {},
     "output_type": "execute_result"
    }
   ],
   "source": [
    "ratings = pd.read_csv(\"data/ratings.csv\")\n",
    "ratings.head()"
   ]
  },
  {
   "cell_type": "markdown",
   "id": "ad86b184",
   "metadata": {},
   "source": [
    "*** \n",
    "\n",
    "Next, we have to create a **graph model** for the movies dataset. Every movie has a title and genre it belongs to. Therefore, let's create `:Movie` and `:Genre` nodes and the relationship between them of `OF_GENRE` type. The `:Movie` nodes will have `id` and `title` properties, while `:Genre` nodes will have just `name` property. In `ratings.csv` we have users who rated movies in a certain moment. Hence, we should create `:User` nodes and new relationship type called `RATED` between `:User` and `:Movie` nodes. This relationship will have properties `rating` and `timestamp`. `:User` node only has `id` property. At the image below, you can see how we can draw the graph model (schema).\n",
    "\n",
    "![movies_graph_model](img/movie-schema.png)"
   ]
  },
  {
   "cell_type": "markdown",
   "id": "75700197",
   "metadata": {},
   "source": [
    "## 4. Connect to Memgraph with GQLAlchemy <a name=\"connect\"></a>\n",
    "\n",
    "We will be using the **GQLAlchemy** object graph mapper (OGM) to connect to Memgraph and execute **Cypher** queries easily. GQLAlchemy also serves as a Python driver/client for Memgraph. You can install it using:\n",
    "\n",
    "```\n",
    "pip install gqlalchemy\n",
    "```\n",
    "\n",
    "> **Hint**: You may need to install [CMake](https://cmake.org/download/) before installing GQLAlchemy."
   ]
  },
  {
   "cell_type": "code",
   "execution_count": 3,
   "id": "e91e3efe",
   "metadata": {},
   "outputs": [],
   "source": [
    "from gqlalchemy import Memgraph"
   ]
  },
  {
   "cell_type": "code",
   "execution_count": 4,
   "id": "93a1c2a2",
   "metadata": {},
   "outputs": [],
   "source": [
    "memgraph = Memgraph(\"127.0.0.1\", 7687)"
   ]
  },
  {
   "cell_type": "markdown",
   "id": "425d5675",
   "metadata": {},
   "source": [
    "Let's make sure that Memgraph is empty before we start with anything else."
   ]
  },
  {
   "cell_type": "code",
   "execution_count": 5,
   "id": "9f68fcb0",
   "metadata": {},
   "outputs": [],
   "source": [
    "memgraph.drop_database()"
   ]
  },
  {
   "cell_type": "code",
   "execution_count": 6,
   "id": "1ffcea1a",
   "metadata": {},
   "outputs": [
    {
     "name": "stdout",
     "output_type": "stream",
     "text": [
      "{'number_of_nodes': 0}\n"
     ]
    }
   ],
   "source": [
    "results = memgraph.execute_and_fetch(\n",
    "    \"\"\"\n",
    "    MATCH (n) RETURN count(n) AS number_of_nodes ;\n",
    "    \"\"\"\n",
    ")\n",
    "print(next(results))\n"
   ]
  },
  {
   "cell_type": "markdown",
   "id": "8d3acc5c",
   "metadata": {},
   "source": [
    "## 5. Define a graph schema <a name=\"graph-schema\"></a>\n",
    "\n",
    "Next, we have to define the above graph schema in our Python code. This is where **GQLAlchemy** steps in with its Object Graph Mapper."
   ]
  },
  {
   "cell_type": "code",
   "execution_count": 7,
   "id": "53c11afe",
   "metadata": {
    "scrolled": false
   },
   "outputs": [],
   "source": [
    "from typing import Optional\n",
    "from gqlalchemy import Node, Relationship, Field\n",
    "\n",
    "class Movie(Node):\n",
    "    id: int = Field(index=True, unique=True, exists=True, db=memgraph)\n",
    "    title: Optional[str] = Field()\n",
    "        \n",
    "\n",
    "class User(Node):\n",
    "    id: int = Field(index=True, unique=True, exists=True, db=memgraph)\n",
    "    name: Optional[str] = Field()\n",
    "        \n",
    "class Genre(Node):\n",
    "    name: str = Field()\n",
    "\n",
    "class Rated(Relationship, type=\"RATED\"):\n",
    "    rating: float = Field()\n",
    "    timestamp: float = Field()\n",
    "\n",
    "class OfGenre(Relationship, type=\"OF_GENRE\"):\n",
    "    pass"
   ]
  },
  {
   "cell_type": "markdown",
   "id": "cb498efe",
   "metadata": {},
   "source": [
    "What’s going on here:\n",
    "\n",
    "- `Node` is a Python class that maps to a graph object in `Memgraph`.\n",
    "- Classes that inherit from `Node` map to a single label in the graph database.\n",
    "- In this case, the class `Movie` maps to the label `:Movie`.\n",
    "- The properties `id` and `title` are mapped to properties of the nodes labeled `Movie` in the graph database, their types must be defined and are enforced.\n",
    "- If the type of the property is missing the `Optional` keyword, then it can’t be `None` or missing.\n",
    "- `Field` is a function from pydantic that you can use to define constraints in the graph database like uniqueness constraints, indexes and existence constraints.\n",
    "- Whenever you provide a constraint to the `Field` function, you have to provide a `Memgraph` object in the `db` argument as well, so those constraints can be enforced.\n",
    "- In this instance, a uniqueness and exists constraints, as well as index are added to `Memgraph` on the label `Movie` and the property `id`."
   ]
  },
  {
   "cell_type": "markdown",
   "id": "e958d8ed",
   "metadata": {},
   "source": [
    "## 6. Creating and returning nodes and relationships <a name=\"create-return\"></a>\n",
    "\n",
    "Before we import the whole dataset from the CSV files, let's see how we can create a simple node and relationship. First we are going to create one `User` node and one `Movie` node."
   ]
  },
  {
   "cell_type": "code",
   "execution_count": 8,
   "id": "0dfccf29",
   "metadata": {
    "scrolled": true
   },
   "outputs": [
    {
     "name": "stdout",
     "output_type": "stream",
     "text": [
      "<User id=346615 labels={'User'} properties={'id': 1, 'name': 'Katarina'}>\n",
      "<Movie id=346616 labels={'Movie'} properties={'id': 1, 'title': 'LOTR'}>\n"
     ]
    }
   ],
   "source": [
    "user_node = User(id=1, name=\"Katarina\")\n",
    "movie_node = Movie(id=1, title=\"LOTR\")\n",
    "\n",
    "user_node.save(memgraph)\n",
    "movie_node.save(memgraph)\n",
    "\n",
    "print(user_node)\n",
    "print(movie_node)"
   ]
  },
  {
   "cell_type": "markdown",
   "id": "e540697d",
   "metadata": {},
   "source": [
    "Now, let's try to create a node using the Cypher query language. We are going to create an user with an existing `id` just to check if the uniqueness constraint on the property `id` is set correctly."
   ]
  },
  {
   "cell_type": "code",
   "execution_count": 9,
   "id": "72d4e770",
   "metadata": {},
   "outputs": [
    {
     "name": "stdout",
     "output_type": "stream",
     "text": [
      "Error: A user with the name Katarina is already in the database.\n"
     ]
    }
   ],
   "source": [
    "try:\n",
    "    results = memgraph.execute(\n",
    "        \"\"\"\n",
    "        CREATE (:User {name: \"Katarina\"});\n",
    "        \"\"\"\n",
    "    )\n",
    "except Exception:\n",
    "    print(\"Error: A user with the name Katarina is already in the database.\")"
   ]
  },
  {
   "cell_type": "markdown",
   "id": "94702cfc",
   "metadata": {},
   "source": [
    "Next, let's create a relationship of type `RATED` between the existing user and movie nodes."
   ]
  },
  {
   "cell_type": "code",
   "execution_count": 10,
   "id": "43e50fd0",
   "metadata": {},
   "outputs": [
    {
     "name": "stdout",
     "output_type": "stream",
     "text": [
      "<Rated id=563845 start_node_id=346615 end_node_id=346616 nodes=(346615, 346616) type=RATED properties={'rating': 5.0, 'timestamp': 1648232875.278028}>\n"
     ]
    }
   ],
   "source": [
    "from time import time\n",
    "\n",
    "rated_relationship = Rated(_start_node_id=user_node._id, _end_node_id=movie_node._id, rating=5.0, timestamp=time())\n",
    "\n",
    "rated_relationship.save(memgraph)\n",
    "\n",
    "print(rated_relationship)"
   ]
  },
  {
   "cell_type": "markdown",
   "id": "f2277c50",
   "metadata": {},
   "source": [
    "## 7. Importing data from CSV files <a name=\"import\"></a>\n",
    "\n",
    "First, let's clean up the database, in order to import only data from the CSV files.\n"
   ]
  },
  {
   "cell_type": "code",
   "execution_count": 11,
   "id": "dae2543a",
   "metadata": {},
   "outputs": [],
   "source": [
    "memgraph.drop_database()"
   ]
  },
  {
   "cell_type": "markdown",
   "id": "5b465fca",
   "metadata": {},
   "source": [
    "First, we need to download the `movies.csv` and `ratings.csv` files. To import it into Memgraph, we need to copy it to the Docker container where Memgraph is running.\n",
    "Find the `CONTAINER_ID` by running:\n",
    "\n",
    "```\n",
    "docker ps\n",
    "```\n",
    "\n",
    "Copy the files with the following commands (don't forget to replace `CONTAINER_ID`):\n",
    "\n",
    "```\n",
    "docker cp movies.csv CONTAINER_ID:movies.csv\n",
    "```\n",
    "\n",
    "```\n",
    "docker cp ratings.csv CONTAINER_ID:ratings.csv\n",
    "```"
   ]
  },
  {
   "cell_type": "markdown",
   "id": "be194ec4",
   "metadata": {},
   "source": [
    "We will import data to Memgraph using the `LOAD CSV` Cypher clause that enables us to load and use data from a CSV file of your choosing in a row-based manner within a query. Memgraph supports the Excel CSV dialect, as it's the most common one. For more info, check out [Memgraph Docs](https://memgraph.com/docs/memgraph/import-data/load-csv-clause).\n",
    "\n",
    "The following method will run `LOAD CSV` clause inside Memgraph and create `Movie` and `Genre` nodes and the `OF_GENRE` relationship between them."
   ]
  },
  {
   "cell_type": "code",
   "execution_count": 12,
   "id": "c40e8239",
   "metadata": {},
   "outputs": [],
   "source": [
    "memgraph.execute(\n",
    "    \"\"\"\n",
    "    LOAD CSV FROM \"/movies.csv\" WITH HEADER AS row\n",
    "    MERGE (m:Movie {id: toInteger(row.movieId), title: row.title}) \n",
    "    WITH m, row\n",
    "    UNWIND split(row.genres, '|') as genre\n",
    "    MERGE (m)-[:OF_GENRE]->(:Genre {name: genre});\n",
    "    \"\"\"\n",
    ")"
   ]
  },
  {
   "cell_type": "markdown",
   "id": "320093d6",
   "metadata": {},
   "source": [
    "All that is left to create is `User` node and connect it to the `Movie` node that the user rated. We will again use `LOAD CSV` clause to import data from `ratings.csv` file."
   ]
  },
  {
   "cell_type": "code",
   "execution_count": 13,
   "id": "f9434a5e",
   "metadata": {},
   "outputs": [],
   "source": [
    "memgraph.execute(\n",
    "    \"\"\"\n",
    "    LOAD CSV FROM \"/ratings.csv\" WITH HEADER AS row\n",
    "    MATCH (m:Movie {id: toInteger(row.movieId)})\n",
    "    MERGE (u:User {id: toInteger(row.userId)})\n",
    "    MERGE (u)-[:RATED {rating: toFloat(row.rating), timestamp: toFloat(row.timestamp)}]->(m);\n",
    "    \"\"\"\n",
    ")"
   ]
  },
  {
   "cell_type": "markdown",
   "id": "7b7b577d",
   "metadata": {},
   "source": [
    "Great! We have imported all the data into Memgraph. Feel free to check it out in Memgraph Lab at `localhost:3000`."
   ]
  },
  {
   "cell_type": "markdown",
   "id": "3c182648",
   "metadata": {},
   "source": [
    "## 8. Querying the database and retrieving results <a name=\"query\"></a>"
   ]
  },
  {
   "cell_type": "markdown",
   "id": "a4ee5d55",
   "metadata": {},
   "source": [
    "The simplest usage of the Cypher query language is to find data stored in the database. For that, you can use one of the following clauses:\n",
    "\n",
    "- `MATCH` which searches for patterns.\n",
    "- `WHERE` for filtering the matched data.\n",
    "- `RETURN` for defining what will be presented to the user in the result set.\n",
    "- `UNION` and `UNION ALL` for combining results from multiple queries.\n",
    "- `UNWIND` for unwinding a list of values as individual rows.\n",
    "\n",
    "Let's create a simple `MATCH` query to find all movies and order them by their title in ascending order."
   ]
  },
  {
   "cell_type": "code",
   "execution_count": 14,
   "id": "837c4220",
   "metadata": {},
   "outputs": [],
   "source": [
    "results = memgraph.execute_and_fetch(\n",
    "    \"\"\"\n",
    "    MATCH (m:Movie)\n",
    "    RETURN m\n",
    "    ORDER BY m.title ASC\n",
    "    LIMIT 10;\n",
    "    \"\"\"\n",
    ")"
   ]
  },
  {
   "cell_type": "code",
   "execution_count": 15,
   "id": "87dfd43d",
   "metadata": {
    "scrolled": false
   },
   "outputs": [
    {
     "name": "stdout",
     "output_type": "stream",
     "text": [
      "<Movie id=355218 labels={'Movie'} properties={'id': 117867, 'title': \"'71 (2014)\"}>\n",
      "<Movie id=354632 labels={'Movie'} properties={'id': 97757, 'title': \"'Hellboy': The Seeds of Creation (2004)\"}>\n",
      "<Movie id=352146 labels={'Movie'} properties={'id': 26564, 'title': \"'Round Midnight (1986)\"}>\n",
      "<Movie id=352308 labels={'Movie'} properties={'id': 27751, 'title': \"'Salem's Lot (2004)\"}>\n",
      "<Movie id=347232 labels={'Movie'} properties={'id': 779, 'title': \"'Til There Was You (1997)\"}>\n",
      "<Movie id=355801 labels={'Movie'} properties={'id': 149380, 'title': \"'Tis the Season for Love (2015)\"}>\n",
      "<Movie id=348155 labels={'Movie'} properties={'id': 2072, 'title': \"'burbs, The (1989)\"}>\n",
      "<Movie id=348971 labels={'Movie'} properties={'id': 3112, 'title': \"'night Mother (1986)\"}>\n",
      "<Movie id=353693 labels={'Movie'} properties={'id': 69757, 'title': '(500) Days of Summer (2009)'}>\n",
      "<Movie id=351740 labels={'Movie'} properties={'id': 8169, 'title': '*batteries not included (1987)'}>\n"
     ]
    }
   ],
   "source": [
    "results = list(results)\n",
    "\n",
    "for result in results:\n",
    "    print(result[\"m\"])\n"
   ]
  },
  {
   "cell_type": "markdown",
   "id": "f2e57132",
   "metadata": {},
   "source": [
    "If you are wondering if these results have been correctly serialized back to the defined schema, you can check it out:"
   ]
  },
  {
   "cell_type": "code",
   "execution_count": 16,
   "id": "8c77df3b",
   "metadata": {
    "scrolled": true
   },
   "outputs": [
    {
     "name": "stdout",
     "output_type": "stream",
     "text": [
      "Movie:  (500) Days of Summer (2009)\n",
      "Type:  <class '__main__.Movie'>\n"
     ]
    }
   ],
   "source": [
    "m = results[8][\"m\"]\n",
    "\n",
    "print(\"Movie: \", m.title)\n",
    "print(\"Type: \", type(m))\n"
   ]
  },
  {
   "cell_type": "markdown",
   "id": "030cf990",
   "metadata": {},
   "source": [
    "As expected, the movie in the result is an instance of `Movie` class and it has properties `id` and `title` that can be easily read.\n",
    "\n",
    "If you're not that keen on Cypher query language, you can try out the GQLAlchemy **query builder**. Let's rewrite the above Cypher query with the help of the query builder:"
   ]
  },
  {
   "cell_type": "code",
   "execution_count": 17,
   "id": "f8721836",
   "metadata": {
    "scrolled": true
   },
   "outputs": [
    {
     "name": "stdout",
     "output_type": "stream",
     "text": [
      "<Movie id=355218 labels={'Movie'} properties={'id': 117867, 'title': \"'71 (2014)\"}>\n",
      "<Movie id=354632 labels={'Movie'} properties={'id': 97757, 'title': \"'Hellboy': The Seeds of Creation (2004)\"}>\n",
      "<Movie id=352146 labels={'Movie'} properties={'id': 26564, 'title': \"'Round Midnight (1986)\"}>\n",
      "<Movie id=352308 labels={'Movie'} properties={'id': 27751, 'title': \"'Salem's Lot (2004)\"}>\n",
      "<Movie id=347232 labels={'Movie'} properties={'id': 779, 'title': \"'Til There Was You (1997)\"}>\n",
      "<Movie id=355801 labels={'Movie'} properties={'id': 149380, 'title': \"'Tis the Season for Love (2015)\"}>\n",
      "<Movie id=348155 labels={'Movie'} properties={'id': 2072, 'title': \"'burbs, The (1989)\"}>\n",
      "<Movie id=348971 labels={'Movie'} properties={'id': 3112, 'title': \"'night Mother (1986)\"}>\n",
      "<Movie id=353693 labels={'Movie'} properties={'id': 69757, 'title': '(500) Days of Summer (2009)'}>\n",
      "<Movie id=351740 labels={'Movie'} properties={'id': 8169, 'title': '*batteries not included (1987)'}>\n"
     ]
    }
   ],
   "source": [
    "from gqlalchemy import match\n",
    "\n",
    "results_from_qb = (\n",
    "    match()\n",
    "    .node(labels=\"Movie\", variable=\"m\")\n",
    "    .return_()\n",
    "    .order_by(\"m.title ASC\")\n",
    "    .limit(10)\n",
    "    .execute()\n",
    ")\n",
    "results_from_qb = list(results_from_qb)\n",
    "\n",
    "for result in results_from_qb:\n",
    "    print(result[\"m\"])\n"
   ]
  },
  {
   "cell_type": "markdown",
   "id": "2710753a",
   "metadata": {},
   "source": [
    "As you can see, the result is the same as above. Next let's create a couple of example queries and check out the results.\n",
    "\n",
    "### ✧ Find out how many users rated the movie with title 'Home Alone (1990)'\n",
    "\n",
    "The correct Cypher query would be:\n",
    "\n",
    "```\n",
    "MATCH (u:User)-[:RATED]->(:Movie {title: 'Home Alone (1990)'})\n",
    "RETURN count(u);\n",
    "```\n",
    "\n",
    "You can try it out in Memgraph Lab at `localhost:3000`.\n",
    "\n",
    "With GQLAlchemy's query builder, the solution is:"
   ]
  },
  {
   "cell_type": "code",
   "execution_count": 18,
   "id": "9ee1b6ce",
   "metadata": {},
   "outputs": [
    {
     "name": "stdout",
     "output_type": "stream",
     "text": [
      "116\n"
     ]
    }
   ],
   "source": [
    "home_alone = (\n",
    "    match()\n",
    "    .node(labels=\"User\", variable=\"u\")\n",
    "    .to(\"RATED\")\n",
    "    .node(labels=\"Movie\", variable=\"m\")\n",
    "    .where(\"m.title\", \"=\", \"Home Alone (1990)\")\n",
    "    .return_({\"count(u)\": \"num_of_users\"})\n",
    "    .execute()\n",
    ")\n",
    "\n",
    "results = list(home_alone)\n",
    "\n",
    "for result in results:\n",
    "    print(result[\"num_of_users\"])"
   ]
  },
  {
   "cell_type": "markdown",
   "id": "8be36006",
   "metadata": {},
   "source": [
    "### ✧ Find out which movie is best rated"
   ]
  },
  {
   "cell_type": "markdown",
   "id": "c02ba5a0",
   "metadata": {},
   "source": [
    "## 9. Exercises"
   ]
  },
  {
   "cell_type": "markdown",
   "id": "fd518040",
   "metadata": {},
   "source": [
    "<h3 align=\"center\"><a href=#toc>⬆️ GO TO TOP ⬆️</a></h3> "
   ]
  }
 ],
 "metadata": {
  "kernelspec": {
   "display_name": "Python 3 (ipykernel)",
   "language": "python",
   "name": "python3"
  },
  "language_info": {
   "codemirror_mode": {
    "name": "ipython",
    "version": 3
   },
   "file_extension": ".py",
   "mimetype": "text/x-python",
   "name": "python",
   "nbconvert_exporter": "python",
   "pygments_lexer": "ipython3",
   "version": "3.9.10"
  }
 },
 "nbformat": 4,
 "nbformat_minor": 5
}
